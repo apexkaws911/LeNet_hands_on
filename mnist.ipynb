{
 "cells": [
  {
   "cell_type": "code",
   "execution_count": null,
   "metadata": {},
   "outputs": [],
   "source": [
    "# Prepare mnist data and run LeNet"
   ]
  },
  {
   "cell_type": "code",
   "execution_count": 11,
   "metadata": {},
   "outputs": [],
   "source": [
    "import struct\n",
    "import numpy as np\n",
    "from matplotlib import pyplot\n",
    "import matplotlib as mpl\n",
    "import os"
   ]
  },
  {
   "cell_type": "code",
   "execution_count": 24,
   "metadata": {},
   "outputs": [],
   "source": [
    "def read_data(dataset = \"training\", path = \".\"):\n",
    "    \n",
    "    cur_path = os.getcwd()\n",
    "    \n",
    "    with open ('{}/mnist_data/train-labels-idx1-ubyte'.format(cur_path), 'rb') as flbl:\n",
    "        magic, num = struct.unpack(\">II\", flbl.read(8))\n",
    "        lbl = np.fromfile(flbl, dtype=np.int8)\n",
    "    \n",
    "    with open ('{}/mnist_data/train-images-idx3-ubyte'.format(cur_path), 'rb') as fimg:\n",
    "        magic, num, rows, cols = struct.unpack(\">IIII\", fimg.read(16))\n",
    "        img = np.fromfile(fimg, dtype=np.int8).reshape(len(lbl),rows, cols)\n",
    "    get_img = lambda idx: (lbl[idx], img[idx])\n",
    "    \n",
    "    # Now we create an iterator which returns each image in turn\n",
    "    for i in range(len(lbl)):\n",
    "        yield get_img(i)\n",
    "        "
   ]
  },
  {
   "cell_type": "code",
   "execution_count": 16,
   "metadata": {},
   "outputs": [],
   "source": [
    "def show(iamge):\n",
    "    \n",
    "    fig = pyplot.figure()\n",
    "    ax = fig.add_sunplot(1,1,1)\n",
    "    imgplot = ax.imshow(image, cmap=mpl.cm.Greys)\n",
    "    imgplot.set_interpolation('nearest')\n",
    "    ax.xaxis.set_ticks_position('top')\n",
    "    ax.yaxis.set_ticks_position('left')\n",
    "    pyplot.show()\n",
    "\n",
    "def ascii_show(image):\n",
    "    \n",
    "    for i in image:\n",
    "        row = \"\"\n",
    "        for j in i:\n",
    "            row += '{:02X}'.format(x)+ ' '\n",
    "        print (row)\n",
    "        "
   ]
  },
  {
   "cell_type": "code",
   "execution_count": 25,
   "metadata": {},
   "outputs": [
    {
     "name": "stdout",
     "output_type": "stream",
     "text": [
      "/Users/denniswu/dev/LeNet_hands_on\n",
      "60000\n",
      "5\n",
      "(28, 28)\n"
     ]
    }
   ],
   "source": [
    "training_data = list(read_data(dataset = \"training\", path= '../dev/LeNet_hands_on/mnist_data/'))\n",
    "label, pixel = training_data[0]\n",
    "print(len(training_data))\n",
    "print(label)\n",
    "print(pixel.shape)"
   ]
  },
  {
   "cell_type": "code",
   "execution_count": null,
   "metadata": {},
   "outputs": [],
   "source": []
  }
 ],
 "metadata": {
  "kernelspec": {
   "display_name": "LeNet_hands_on-H0z4JIFu",
   "language": "python",
   "name": "lenet_hands_on-h0z4jifu"
  },
  "language_info": {
   "codemirror_mode": {
    "name": "ipython",
    "version": 3
   },
   "file_extension": ".py",
   "mimetype": "text/x-python",
   "name": "python",
   "nbconvert_exporter": "python",
   "pygments_lexer": "ipython3",
   "version": "3.6.5"
  }
 },
 "nbformat": 4,
 "nbformat_minor": 2
}
