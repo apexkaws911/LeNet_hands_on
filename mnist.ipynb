{
 "cells": [
  {
   "cell_type": "code",
   "execution_count": null,
   "metadata": {},
   "outputs": [],
   "source": [
    "# Prepare mnist data and run LeNet"
   ]
  },
  {
   "cell_type": "code",
   "execution_count": 11,
   "metadata": {},
   "outputs": [],
   "source": [
    "import struct\n",
    "import numpy as np\n",
    "from matplotlib import pyplot\n",
    "import matplotlib as mpl\n",
    "import os"
   ]
  },
  {
   "cell_type": "code",
   "execution_count": 24,
   "metadata": {},
   "outputs": [],
   "source": [
    "def read_data(dataset = \"training\", path = \".\"):\n",
    "    \n",
    "    cur_path = os.getcwd()\n",
    "    \n",
    "    with open ('{}/mnist_data/train-labels-idx1-ubyte'.format(cur_path), 'rb') as flbl:\n",
    "        magic, num = struct.unpack(\">II\", flbl.read(8))\n",
    "        lbl = np.fromfile(flbl, dtype=np.int8)\n",
    "    \n",
    "    with open ('{}/mnist_data/train-images-idx3-ubyte'.format(cur_path), 'rb') as fimg:\n",
    "        magic, num, rows, cols = struct.unpack(\">IIII\", fimg.read(16))\n",
    "        img = np.fromfile(fimg, dtype=np.int8).reshape(len(lbl),rows, cols)\n",
    "    get_img = lambda idx: (lbl[idx], img[idx])\n",
    "    \n",
    "    # Now we create an iterator which returns each image in turn\n",
    "    for i in range(len(lbl)):\n",
    "        yield get_img(i)\n",
    "        "
   ]
  },
  {
   "cell_type": "code",
   "execution_count": 32,
   "metadata": {},
   "outputs": [],
   "source": [
    "def show(image):\n",
    "    \n",
    "    fig = pyplot.figure()\n",
    "    ax = fig.add_subplot(1,1,1)\n",
    "    imgplot = ax.imshow(image, cmap=mpl.cm.Greys)\n",
    "    imgplot.set_interpolation('nearest')\n",
    "    ax.xaxis.set_ticks_position('top')\n",
    "    ax.yaxis.set_ticks_position('left')\n",
    "    pyplot.show()\n",
    "\n",
    "def ascii_show(image):\n",
    "    \n",
    "    for i in image:\n",
    "        row = \"\"\n",
    "        for j in i:\n",
    "            row += '{:02X}'.format(j)+ ' '\n",
    "        print (row)\n",
    "        "
   ]
  },
  {
   "cell_type": "code",
   "execution_count": 25,
   "metadata": {},
   "outputs": [
    {
     "name": "stdout",
     "output_type": "stream",
     "text": [
      "/Users/denniswu/dev/LeNet_hands_on\n",
      "60000\n",
      "5\n",
      "(28, 28)\n"
     ]
    }
   ],
   "source": [
    "training_data = list(read_data(dataset = \"training\", path= '../dev/LeNet_hands_on/mnist_data/'))\n",
    "label, pixel = training_data[0]\n",
    "print(len(training_data))\n",
    "print(label)\n",
    "print(pixel.shape)"
   ]
  },
  {
   "cell_type": "code",
   "execution_count": 30,
   "metadata": {},
   "outputs": [
    {
     "name": "stdout",
     "output_type": "stream",
     "text": [
      "/Users/denniswu/dev/LeNet_hands_on\n"
     ]
    },
    {
     "data": {
      "image/png": "[encoded data removed]",
      "text/plain": [
       "<Figure size 432x288 with 1 Axes>"
      ]
     },
     "metadata": {},
     "output_type": "display_data"
    }
   ],
   "source": [
    "training_data = list(read_data(dataset=\"training\",path='../dev/LeNet_hands_on/mnist_data/'))\n",
    "label, pixel = training_data[0]\n",
    "show(pixel)"
   ]
  },
  {
   "cell_type": "code",
   "execution_count": 33,
   "metadata": {},
   "outputs": [
    {
     "name": "stdout",
     "output_type": "stream",
     "text": [
      "00 00 00 00 00 00 00 00 00 00 00 00 00 00 00 00 00 00 00 00 00 00 00 00 00 00 00 00 \n",
      "00 00 00 00 00 00 00 00 00 00 00 00 00 00 00 00 00 00 00 00 00 00 00 00 00 00 00 00 \n",
      "00 00 00 00 00 00 00 00 00 00 00 00 00 00 00 00 00 00 00 00 00 00 00 00 00 00 00 00 \n",
      "00 00 00 00 00 00 00 00 00 00 00 00 00 00 00 00 00 00 00 00 00 00 00 00 00 00 00 00 \n",
      "00 00 00 00 00 00 00 00 00 00 00 00 00 00 00 00 00 00 00 00 00 00 00 00 00 00 00 00 \n",
      "00 00 00 00 00 00 00 00 00 00 00 00 03 12 12 12 7E -78 -51 1A -5A -1 -9 7F 00 00 00 00 \n",
      "00 00 00 00 00 00 00 00 1E 24 5E -66 -56 -3 -3 -3 -3 -3 -1F -54 -3 -E -3D 40 00 00 00 00 \n",
      "00 00 00 00 00 00 00 31 -12 -3 -3 -3 -3 -3 -3 -3 -3 -5 5D 52 52 38 27 00 00 00 00 00 \n",
      "00 00 00 00 00 00 00 12 -25 -3 -3 -3 -3 -3 -3A -4A -9 -F 00 00 00 00 00 00 00 00 00 00 \n",
      "00 00 00 00 00 00 00 00 50 -64 6B -3 -3 -33 0B 00 2B -66 00 00 00 00 00 00 00 00 00 00 \n",
      "00 00 00 00 00 00 00 00 00 0E 01 -66 -3 5A 00 00 00 00 00 00 00 00 00 00 00 00 00 00 \n",
      "00 00 00 00 00 00 00 00 00 00 00 -75 -3 -42 02 00 00 00 00 00 00 00 00 00 00 00 00 00 \n",
      "00 00 00 00 00 00 00 00 00 00 00 0B -42 -3 46 00 00 00 00 00 00 00 00 00 00 00 00 00 \n",
      "00 00 00 00 00 00 00 00 00 00 00 00 23 -F -1F -60 6C 01 00 00 00 00 00 00 00 00 00 00 \n",
      "00 00 00 00 00 00 00 00 00 00 00 00 00 51 -10 -3 -3 77 19 00 00 00 00 00 00 00 00 00 \n",
      "00 00 00 00 00 00 00 00 00 00 00 00 00 00 2D -46 -3 -3 -6A 1B 00 00 00 00 00 00 00 00 \n",
      "00 00 00 00 00 00 00 00 00 00 00 00 00 00 00 10 5D -4 -3 -45 00 00 00 00 00 00 00 00 \n",
      "00 00 00 00 00 00 00 00 00 00 00 00 00 00 00 00 00 -7 -3 -7 40 00 00 00 00 00 00 00 \n",
      "00 00 00 00 00 00 00 00 00 00 00 00 00 00 2E -7E -49 -3 -3 -31 02 00 00 00 00 00 00 00 \n",
      "00 00 00 00 00 00 00 00 00 00 00 00 27 -6C -1B -3 -3 -3 -6 -4A 00 00 00 00 00 00 00 00 \n",
      "00 00 00 00 00 00 00 00 00 00 18 72 -23 -3 -3 -3 -3 -37 4E 00 00 00 00 00 00 00 00 00 \n",
      "00 00 00 00 00 00 00 00 17 42 -2B -3 -3 -3 -3 -3A 51 02 00 00 00 00 00 00 00 00 00 00 \n",
      "00 00 00 00 00 00 12 -55 -25 -3 -3 -3 -3 -3D 50 09 00 00 00 00 00 00 00 00 00 00 00 00 \n",
      "00 00 00 00 37 -54 -1E -3 -3 -3 -3 -C -7B 0B 00 00 00 00 00 00 00 00 00 00 00 00 00 00 \n",
      "00 00 00 00 -78 -3 -3 -3 -2C -79 -7C 10 00 00 00 00 00 00 00 00 00 00 00 00 00 00 00 00 \n",
      "00 00 00 00 00 00 00 00 00 00 00 00 00 00 00 00 00 00 00 00 00 00 00 00 00 00 00 00 \n",
      "00 00 00 00 00 00 00 00 00 00 00 00 00 00 00 00 00 00 00 00 00 00 00 00 00 00 00 00 \n",
      "00 00 00 00 00 00 00 00 00 00 00 00 00 00 00 00 00 00 00 00 00 00 00 00 00 00 00 00 \n"
     ]
    }
   ],
   "source": [
    "ascii_show(pixel)"
   ]
  },
  {
   "cell_type": "code",
   "execution_count": 34,
   "metadata": {},
   "outputs": [],
   "source": [
    "pixels = np.zeros([28,28])\n",
    "for i in range(10):\n",
    "    label, pixel = training_data[i]\n",
    "    pixels += pixel\n",
    "pixels = pixels/10"
   ]
  },
  {
   "cell_type": "code",
   "execution_count": 35,
   "metadata": {},
   "outputs": [
    {
     "name": "stdout",
     "output_type": "stream",
     "text": [
      "00 00 00 00 00 00 00 00 00 00 00 00 00 00 00 00 00 00 00 00 00 00 00 00 00 00 00 00 \n",
      "00 00 00 00 00 00 00 00 00 00 00 00 00 00 00 00 00 00 00 00 00 00 00 00 00 00 00 00 \n",
      "00 00 00 00 00 00 00 00 00 00 00 00 00 00 00 00 00 00 00 00 00 00 00 00 00 00 00 00 \n",
      "00 00 00 00 00 00 00 00 00 00 00 00 00 00 00 00 00 00 00 00 00 00 00 00 00 00 00 00 \n",
      "00 00 00 00 00 00 00 00 00 00 00 00 F5 00 FC 08 F7 00 F7 05 00 00 FA FA 00 00 00 00 \n",
      "00 00 00 00 00 00 00 00 00 00 00 07 03 12 00 08 0E FE 0F 00 F6 FA 02 02 00 00 00 00 \n",
      "00 00 00 00 06 08 00 00 03 07 FE F4 EF 07 EF 03 FF 06 F9 EC 04 F4 FE 0F 00 00 00 00 \n",
      "00 00 00 00 0C F7 00 04 FF F8 00 04 F8 F0 FA 0A FC 0D 19 FA 00 12 06 00 00 00 00 00 \n",
      "00 00 00 00 FD F7 00 01 FD 0C F5 FF FC EB EF EE F8 F9 07 00 FE EB 0A 00 00 00 00 00 \n",
      "00 00 00 00 FD F7 00 00 08 00 18 01 FC F3 02 26 05 F1 00 04 10 03 00 00 00 00 00 00 \n",
      "00 00 00 04 FF F7 00 00 00 08 FE F5 FE F9 0A 07 1F 11 FC F5 06 02 05 00 00 00 00 00 \n",
      "00 00 00 0C 00 F7 00 00 F8 FA F3 E1 00 FC 03 F4 0F 01 FF 04 00 04 F7 00 00 00 00 00 \n",
      "00 00 00 F7 00 0C 00 0D F8 FF FA 06 FB 04 0B F8 08 F8 E9 FC FD 02 FA 00 00 00 00 00 \n",
      "00 00 00 F7 00 06 01 03 00 00 0F FA F2 09 02 F8 2D EB FE 0E 0B 00 FA 00 00 00 00 00 \n",
      "00 00 00 F7 00 08 02 FB 0D FE 07 1C EA FE FC F0 03 0A ED 03 03 00 FA 00 00 00 00 00 \n",
      "00 00 00 F6 00 FF 04 00 FF 0C FC FE FC EC E8 F2 09 FD F1 15 00 00 F6 00 00 00 00 00 \n",
      "00 00 00 00 0B F9 09 FE FB FB 18 05 07 11 FF 02 EA 08 FD F4 08 FA 01 00 00 00 00 00 \n",
      "00 00 00 00 00 00 02 F0 06 00 FE FF 03 09 F2 FE 0D EE E1 FA 02 00 06 04 04 00 00 00 \n",
      "00 00 00 00 00 00 07 02 F4 0A 00 00 0B F7 04 F7 16 E7 01 07 F7 FF 00 00 FD 00 00 00 \n",
      "00 00 00 00 00 0A 08 05 06 01 07 F9 F8 08 01 16 F4 EC F6 05 00 08 F9 F9 03 00 00 00 \n",
      "00 00 00 00 00 03 00 FF FE E8 06 19 03 0D FA FC FF E9 0F 0F 00 00 00 00 00 00 00 00 \n",
      "00 00 00 00 00 F7 07 FF FC F7 E8 F7 EB FA EC F2 FD F1 0B 09 00 00 00 00 00 00 00 00 \n",
      "00 00 00 00 00 FD 0D E7 0E 00 FC FB F6 FC F9 FE 00 F8 03 F6 00 00 00 00 00 00 00 00 \n",
      "00 00 00 00 05 FD F4 01 F9 FF 0A FA ED 00 F2 FF 09 F7 03 F6 00 00 00 00 00 00 00 00 \n",
      "00 00 00 00 F4 00 00 0A FC EE EB 08 02 00 00 FB FD 0D 00 F6 00 00 00 00 00 00 00 00 \n",
      "00 00 00 00 00 00 00 00 00 00 00 00 00 00 01 F9 00 F8 01 00 00 00 00 00 00 00 00 00 \n",
      "00 00 00 00 00 00 00 00 00 00 00 00 00 00 00 01 F6 00 04 00 00 00 00 00 00 00 00 00 \n",
      "00 00 00 00 00 00 00 00 00 00 00 00 00 00 00 00 00 00 00 00 00 00 00 00 00 00 00 00 \n"
     ]
    }
   ],
   "source": [
    "ascii_show(pixels.astype(np.uint8))"
   ]
  },
  {
   "cell_type": "code",
   "execution_count": 36,
   "metadata": {},
   "outputs": [
    {
     "data": {
      "image/png": "[encoded data removed]",
      "text/plain": [
       "<Figure size 432x288 with 1 Axes>"
      ]
     },
     "metadata": {},
     "output_type": "display_data"
    }
   ],
   "source": [
    "show(pixels)"
   ]
  },
  {
   "cell_type": "code",
   "execution_count": 37,
   "metadata": {},
   "outputs": [
    {
     "name": "stdout",
     "output_type": "stream",
     "text": [
      "[5, 0, 4, 1, 9, 2, 1, 3, 1, 4] Mean:3.00\n"
     ]
    }
   ],
   "source": [
    "labels = []\n",
    "for i in range(10):\n",
    "    label, pixel = training_data[i]\n",
    "    labels.append(label)\n",
    "print (labels, 'Mean:{:.2f}'.format(np.mean(labels)))"
   ]
  },
  {
   "cell_type": "code",
   "execution_count": 39,
   "metadata": {},
   "outputs": [],
   "source": [
    "def padding(img):\n",
    "    result = np.zeros([32,32])\n",
    "    for i in range(28):\n",
    "        for j in range(28):\n",
    "            result[i+2,j+2] = img[i,j]\n",
    "    return result"
   ]
  },
  {
   "cell_type": "code",
   "execution_count": 40,
   "metadata": {},
   "outputs": [
    {
     "name": "stdout",
     "output_type": "stream",
     "text": [
      "00 00 00 00 00 00 00 00 00 00 00 00 00 00 00 00 00 00 00 00 00 00 00 00 00 00 00 00 00 00 00 00 \n",
      "00 00 00 00 00 00 00 00 00 00 00 00 00 00 00 00 00 00 00 00 00 00 00 00 00 00 00 00 00 00 00 00 \n",
      "00 00 00 00 00 00 00 00 00 00 00 00 00 00 00 00 00 00 00 00 00 00 00 00 00 00 00 00 00 00 00 00 \n",
      "00 00 00 00 00 00 00 00 00 00 00 00 00 00 00 00 00 00 00 00 00 00 00 00 00 00 00 00 00 00 00 00 \n",
      "00 00 00 00 00 00 00 00 00 00 00 00 00 00 00 00 00 00 00 00 00 00 00 00 00 00 00 00 00 00 00 00 \n",
      "00 00 00 00 00 00 00 00 00 00 00 00 00 00 00 00 00 00 00 00 00 00 00 00 00 00 00 00 00 00 00 00 \n",
      "00 00 00 00 00 00 00 00 00 00 00 00 00 00 00 00 00 00 00 00 00 00 00 00 00 00 00 00 00 00 00 00 \n",
      "00 00 00 00 00 00 00 00 00 00 00 00 00 00 03 12 12 12 7E 88 AF 1A A6 FF F7 7F 00 00 00 00 00 00 \n",
      "00 00 00 00 00 00 00 00 00 00 1E 24 5E 9A AA FD FD FD FD FD E1 AC FD F2 C3 40 00 00 00 00 00 00 \n",
      "00 00 00 00 00 00 00 00 00 31 EE FD FD FD FD FD FD FD FD FB 5D 52 52 38 27 00 00 00 00 00 00 00 \n",
      "00 00 00 00 00 00 00 00 00 12 DB FD FD FD FD FD C6 B6 F7 F1 00 00 00 00 00 00 00 00 00 00 00 00 \n",
      "00 00 00 00 00 00 00 00 00 00 50 9C 6B FD FD CD 0B 00 2B 9A 00 00 00 00 00 00 00 00 00 00 00 00 \n",
      "00 00 00 00 00 00 00 00 00 00 00 0E 01 9A FD 5A 00 00 00 00 00 00 00 00 00 00 00 00 00 00 00 00 \n",
      "00 00 00 00 00 00 00 00 00 00 00 00 00 8B FD BE 02 00 00 00 00 00 00 00 00 00 00 00 00 00 00 00 \n",
      "00 00 00 00 00 00 00 00 00 00 00 00 00 0B BE FD 46 00 00 00 00 00 00 00 00 00 00 00 00 00 00 00 \n",
      "00 00 00 00 00 00 00 00 00 00 00 00 00 00 23 F1 E1 A0 6C 01 00 00 00 00 00 00 00 00 00 00 00 00 \n",
      "00 00 00 00 00 00 00 00 00 00 00 00 00 00 00 51 F0 FD FD 77 19 00 00 00 00 00 00 00 00 00 00 00 \n",
      "00 00 00 00 00 00 00 00 00 00 00 00 00 00 00 00 2D BA FD FD 96 1B 00 00 00 00 00 00 00 00 00 00 \n",
      "00 00 00 00 00 00 00 00 00 00 00 00 00 00 00 00 00 10 5D FC FD BB 00 00 00 00 00 00 00 00 00 00 \n",
      "00 00 00 00 00 00 00 00 00 00 00 00 00 00 00 00 00 00 00 F9 FD F9 40 00 00 00 00 00 00 00 00 00 \n",
      "00 00 00 00 00 00 00 00 00 00 00 00 00 00 00 00 2E 82 B7 FD FD CF 02 00 00 00 00 00 00 00 00 00 \n",
      "00 00 00 00 00 00 00 00 00 00 00 00 00 00 27 94 E5 FD FD FD FA B6 00 00 00 00 00 00 00 00 00 00 \n",
      "00 00 00 00 00 00 00 00 00 00 00 00 18 72 DD FD FD FD FD C9 4E 00 00 00 00 00 00 00 00 00 00 00 \n",
      "00 00 00 00 00 00 00 00 00 00 17 42 D5 FD FD FD FD C6 51 02 00 00 00 00 00 00 00 00 00 00 00 00 \n",
      "00 00 00 00 00 00 00 00 12 AB DB FD FD FD FD C3 50 09 00 00 00 00 00 00 00 00 00 00 00 00 00 00 \n",
      "00 00 00 00 00 00 37 AC E2 FD FD FD FD F4 85 0B 00 00 00 00 00 00 00 00 00 00 00 00 00 00 00 00 \n",
      "00 00 00 00 00 00 88 FD FD FD D4 87 84 10 00 00 00 00 00 00 00 00 00 00 00 00 00 00 00 00 00 00 \n",
      "00 00 00 00 00 00 00 00 00 00 00 00 00 00 00 00 00 00 00 00 00 00 00 00 00 00 00 00 00 00 00 00 \n",
      "00 00 00 00 00 00 00 00 00 00 00 00 00 00 00 00 00 00 00 00 00 00 00 00 00 00 00 00 00 00 00 00 \n",
      "00 00 00 00 00 00 00 00 00 00 00 00 00 00 00 00 00 00 00 00 00 00 00 00 00 00 00 00 00 00 00 00 \n",
      "00 00 00 00 00 00 00 00 00 00 00 00 00 00 00 00 00 00 00 00 00 00 00 00 00 00 00 00 00 00 00 00 \n",
      "00 00 00 00 00 00 00 00 00 00 00 00 00 00 00 00 00 00 00 00 00 00 00 00 00 00 00 00 00 00 00 00 \n"
     ]
    }
   ],
   "source": [
    "label, pixel = training_data[0]\n",
    "img = padding(pixel)\n",
    "ascii_show(img.astype(np.uint8))"
   ]
  },
  {
   "cell_type": "code",
   "execution_count": null,
   "metadata": {},
   "outputs": [],
   "source": []
  }
 ],
 "metadata": {
  "kernelspec": {
   "display_name": "LeNet_hands_on-H0z4JIFu",
   "language": "python",
   "name": "lenet_hands_on-h0z4jifu"
  },
  "language_info": {
   "codemirror_mode": {
    "name": "ipython",
    "version": 3
   },
   "file_extension": ".py",
   "mimetype": "text/x-python",
   "name": "python",
   "nbconvert_exporter": "python",
   "pygments_lexer": "ipython3",
   "version": "3.6.5"
  }
 },
 "nbformat": 4,
 "nbformat_minor": 2
}
